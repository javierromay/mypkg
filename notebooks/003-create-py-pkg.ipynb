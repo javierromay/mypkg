{
 "cells": [
  {
   "cell_type": "markdown",
   "metadata": {},
   "source": [
    "# 3. CREACIÓN Y DISRIBUCIÓN DE PAQUETES"
   ]
  },
  {
   "cell_type": "markdown",
   "metadata": {},
   "source": [
    "# 3.2 Estructura del paquete \n",
    "\n",
    "## 3.2.1 Introducción\n",
    "Los paquetes de Python constan de una estructura de directorio específica que generalmente incluye lo siguiente:\n",
    "\n",
    "- Un directorio raíz con el nombre del paquete, por ejemplo, pycounts/;\n",
    "\n",
    "- Uno o más módulos Python (archivos con extensión .py que contienen código Python) en un subdirectorio src/pycounts/;\n",
    "\n",
    "- Instrucciones sobre cómo construir e instalar el paquete en una computadora en un archivo llamado pyproject.toml;\n",
    "\n",
    "- Documentación importante como un README en el directorio raíz y documentación adicional en un subdirectorio docs/; y,\n",
    "\n",
    "- Pruebas en un subdirectorio tests/.\n",
    "\n",
    "## 3.2.2 Creación de una estructura de paquete\n",
    "\n",
    "cookiecutter es una herramienta para rellenar una estructura de directorio a partir de una plantilla prefabricada."
   ]
  },
  {
   "cell_type": "markdown",
   "metadata": {},
   "source": [
    "``` bash \n",
    "$ cookiecutter https://github.com/py-pkgs/py-pkgs-cookiecutter.git "
   ]
  },
  {
   "cell_type": "markdown",
   "metadata": {},
   "source": [
    "Al ejecutar este comando, se le solicitará que proporcione información que se utilizará para crear su archivo de paquete y la estructura de directorio"
   ]
  },
  {
   "cell_type": "markdown",
   "metadata": {},
   "source": [
    "``` bash \n",
    "author_name [Monty Python]: Tomas Beuzen\n",
    "package_name [mypkg]: pycounts\n",
    "package_short_description []: Calculate word counts in a text file!\n",
    "package_version [0.1.0]: \n",
    "python_version [3.9]: \n",
    "Select open_source_license:\n",
    "1 - MIT\n",
    "2 - Apache License 2.0\n",
    "3 - GNU General Public License v3.0\n",
    "4 - Creative Commons Attribution 4.0\n",
    "5 - BSD 3-Clause\n",
    "6 - Proprietary\n",
    "7 - None\n",
    "Choose from 1, 2, 3, 4, 5, 6 [1]: \n",
    "Select include_github_actions:\n",
    "1 - no\n",
    "2 - ci\n",
    "3 - ci+cd\n",
    "Choose from 1, 2, 3 [1]:"
   ]
  },
  {
   "cell_type": "markdown",
   "metadata": {},
   "source": [
    "- author_name: comprobar primero en PyPI que este nombre no existe ya, porque si no dará problemas al subirlo.\n",
    "- python_version: La versión mínima de Python que tu paquete admitirá.\n",
    "- open_source_license: La licencia que dicta cómo otros pueden usar su paquete. La licencia MIT que elegimos en nuestro ejemplo es una licencia permisiva que se usa comúnmente para trabajos de código abierto. Si su proyecto no será de código abierto, puede optar por no incluir una licencia.\n",
    "- include_github_actions: Una opción para incluir archivos de integración e implementación continuas para usar con GitHub Actions."
   ]
  },
  {
   "cell_type": "markdown",
   "metadata": {},
   "source": [
    "# 3.3 Ponga su paquete bajo control de versiones\n",
    "\n",
    "Antes de continuar con el desarrollo de nuestro paquete, es una buena práctica ponerlo bajo control de versiones local y remoto. Es muy recomendable para que pueda administrar y realizar un seguimiento de los cambios en su paquete a lo largo del tiempo. Las herramientas que utilizaremos para el control de versiones en este libro son Git y GitHub\n",
    "\n",
    "## 3.3.1 Configurar el control de versiones local\n",
    "\n",
    "Para configurar el control de versiones local, navegue al pycounts/directorio raíz e inicialice un repositorio Git:"
   ]
  },
  {
   "cell_type": "markdown",
   "metadata": {},
   "source": [
    "``` bash\n",
    "$ cd pycounts\n",
    "$ git init\n",
    "\n",
    "Initialized empty Git repository in /Users/tomasbeuzen/pycounts/.git/"
   ]
  },
  {
   "cell_type": "markdown",
   "metadata": {},
   "source": [
    "A continuación, debemos indicarle a Git qué archivos debe rastrear para el control de versiones (que serán todos en este punto) y luego confirmar estos cambios localmente:"
   ]
  },
  {
   "cell_type": "markdown",
   "metadata": {},
   "source": [
    "``` bash \n",
    "$ git add .\n",
    "$ git commit -m \"initial package setup\"\n",
    "\n",
    "[master (root-commit) 51795ad] initial package setup\n",
    " 20 files changed, 502 insertions(+)\n",
    " create mode 100644 .gitignore\n",
    " create mode 100644 .readthedocs.yml\n",
    " create mode 100644 CHANGELOG.md\n",
    " ...\n",
    " create mode 100644 src/pycounts/__init__.py\n",
    " create mode 100644 src/pycounts/pycounts.py\n",
    " create mode 100644 tests/test_pycounts.py"
   ]
  },
  {
   "cell_type": "markdown",
   "metadata": {},
   "source": [
    "## 3.3.2 Configurar el control remoto de versiones\n",
    "\n",
    "Ahora que hemos configurado el control de versiones local, crearemos un repositorio en GitHub y lo configuraremos como el control de versiones remoto para este proyecto.\n",
    "\n",
    "Pasos:\n",
    "\n",
    "1. Crear nuevo repo en Github\n",
    "2. A continuación, seleccione las siguientes opciones al configurar su repositorio de GitHub: \n",
    "   - Dale al repositorio de GitHub el mismo nombre que tu paquete de Python y dale una breve descripción.\n",
    "\n",
    "    - Puedes elegir hacer tu repositorio público o privado: haremos el nuestro público para poder compartirlo con otros.\n",
    "\n",
    "    - No inicialice el repositorio con ningún archivo (ya hemos creado todos nuestros archivos localmente usando la plantilla cookiecutter).\n",
    "3. Ahora, use los comandos que se muestran para vincular sus repositorios locales y remotos y enviar su contenido local a GitHub:"
   ]
  },
  {
   "cell_type": "markdown",
   "metadata": {},
   "source": [
    "``` bash\n",
    "$ git remote add origin <enlace a su repo de github>\n",
    "$ git branch -M main\n",
    "$ push -u origin main\n",
    "\n",
    "Enumerating objects: 26, done.\n",
    "Counting objects: 100% (26/26), done.\n",
    "Delta compression using up to 8 threads\n",
    "Compressing objects: 100% (19/19), done.\n",
    "Writing objects: 100% (26/26), 8.03 KiB | 4.01 MiB/s, done.\n",
    "Total 26 (delta 0), reused 0 (delta 0)\n",
    "To github.com:TomasBeuzen/pycounts.git\n",
    " * [new branch]      main -> main\n",
    "Branch 'main' set up to track remote branch 'main' from 'origin'."
   ]
  },
  {
   "cell_type": "markdown",
   "metadata": {},
   "source": [
    "# 3.4 Empaquete su código \n",
    "\n",
    "Crea tus módulos de python en el directorio src/pycounts"
   ]
  },
  {
   "cell_type": "markdown",
   "metadata": {},
   "source": [
    "# 3.5 Pruebe el código de su paquete\n",
    "\n",
    "## 3.5.1 Crea un entorno virtual\n",
    "\n",
    "Antes de instalar y probar nuestro paquete, es muy recomendable configurar un entorno virtual. Un entorno virtual proporciona un espacio seguro y aislado para desarrollar e instalar paquetes.\n",
    "\n",
    "Para un nuevo entorno virtual utilizando conda llamado pycounts que contenga Python, ejecute lo siguiente en su terminal:\n"
   ]
  },
  {
   "cell_type": "markdown",
   "metadata": {},
   "source": [
    "```bash \n",
    "$ conda create --name pycounts python=3.9 -y"
   ]
  },
  {
   "cell_type": "markdown",
   "metadata": {},
   "source": [
    "Lo especificamos python=3.9 porque esa es la versión mínima de Python que especificamos que nuestro paquete admitirá.\n",
    "\n",
    "Para poder utilizar este nuevo entorno de desarrollo e instalación de software necesitamos “activarlo”:"
   ]
  },
  {
   "cell_type": "markdown",
   "metadata": {},
   "source": [
    "```bash\n",
    "$ conda activate pycounts"
   ]
  },
  {
   "cell_type": "markdown",
   "metadata": {},
   "source": [
    "Puede ver los paquetes instalados actualmente en un entorno conda utilizando conda list el comando y puede salir de un entorno virtual utilizando conda deactivate"
   ]
  },
  {
   "cell_type": "markdown",
   "metadata": {},
   "source": [
    "## 3.5.2 Instalación del paquete\n",
    "\n",
    "Para instalar y usar nuestro paquete usaremos poetry, que es una herramienta de empaquetado moderna que proporciona comandos simples y eficientes para desarrollar, instalar y distribuir paquetes Python.\n",
    "\n",
    "En un paquete administrado por poetry, el archivo pyproject.toml almacena todos los metadatos y las instrucciones de instalación del paquete. El pyproject.toml que se creó con el cookiecutter para nuestro paquete pycounts se ve así:"
   ]
  },
  {
   "cell_type": "markdown",
   "metadata": {},
   "source": [
    "```python\n",
    "[tool.poetry]\n",
    "name = \"pycounts\"\n",
    "version = \"0.1.0\"\n",
    "description = \"Calculate word counts in a text file.\"\n",
    "authors = [\"Tomas Beuzen\"]\n",
    "license = \"MIT\"\n",
    "readme = \"README.md\"\n",
    "\n",
    "[tool.poetry.dependencies]\n",
    "python = \"^3.9\"\n",
    "\n",
    "[tool.poetry.dev-dependencies]\n",
    "\n",
    "[build-system]\n",
    "requires = [\"poetry-core>=1.0.0\"]\n",
    "build-backend = \"poetry.core.masonry.api\" "
   ]
  },
  {
   "cell_type": "markdown",
   "metadata": {},
   "source": [
    "- [tool.poetry] define los metadatos del paquete. \n",
    "- [tool.poetry.dependencies] Identifica las dependencias de un paquete, es decir, el software del que depende el paquete.\n",
    "- [tool.poetry.dev-dependencies] Identifica las dependencias de desarrollo de un paquete: dependencias necesarias para fines de desarrollo, como ejecutar pruebas o compilar documentación.\n",
    "- [build-system] Identifica las herramientas de compilación necesarias para compilar el paquete."
   ]
  },
  {
   "cell_type": "markdown",
   "metadata": {},
   "source": [
    "Con nuestro pyproject.tomlarchivo ya configurado por el cookiecutter podemos instalar con poetry nuestro paquete usando el comando en la línea de comandos desde el directorio raíz del paquete: "
   ]
  },
  {
   "cell_type": "markdown",
   "metadata": {},
   "source": [
    "```bash \n",
    "$ poetry install\n",
    "\n",
    "Updating dependencies\n",
    "Resolving dependencies... (0.1s)\n",
    "\n",
    "Writing lock file\n",
    "\n",
    "Installing the current project: pycounts (0.1.0)"
   ]
  },
  {
   "cell_type": "markdown",
   "metadata": {},
   "source": [
    "Cuando ejecuta poetry install, se crea un archivo poetry.lock que contiene un registro de todas las dependencias que ha instalado mientras desarrollaba su paquete. Para cualquier otra persona que trabaje en su proyecto (incluido usted en el futuro), ejecutar instala dependencias desde poetry.lock para garantizar que tengan las mismas versiones de dependencias que usted tenía al desarrollar el paquete.\n",
    "\n",
    "Una vez instalado el paquete, podemos usarlo en una sesión de Python."
   ]
  },
  {
   "cell_type": "markdown",
   "metadata": {},
   "source": [
    "```python \n",
    ">>> from pycounts.pycounts import count_words\n",
    ">>> count_words(\"zen.txt\")"
   ]
  },
  {
   "cell_type": "markdown",
   "metadata": {},
   "source": [
    "¡Hemos creado e instalado un paquete Python simple! Ahora puedes usar este paquete Python en cualquier proyecto que desees (si usas entornos virtuales, necesitarás el paquete en ellos antes de poder usarlo, poetry install)"
   ]
  },
  {
   "cell_type": "markdown",
   "metadata": {},
   "source": [
    "poetry install instala paquetes en \"modo editable\", lo que significa que instala un enlace al código de su paquete en su computadora (en lugar de instalarlo como una pieza de software independiente). Los desarrolladores suelen utilizar instalaciones editables porque significa que cualquier edición realizada en el código fuente del paquete está disponible de inmediato la próxima vez que se importe, sin tener que hacerlo nuevamente."
   ]
  },
  {
   "cell_type": "markdown",
   "metadata": {},
   "source": [
    "Para quienes usan el control de versiones, es una buena idea confirmar los cambios que hemos realizado\n",
    "\n",
    "```bash \n",
    "$ git add src/pycounts/pycounts.py\n",
    "$ git commit -m \"feat: add word counting functions\"\n",
    "$ git push"
   ]
  },
  {
   "cell_type": "markdown",
   "metadata": {},
   "source": [
    "Usaremos los siguientes “tipos” para nuestras confirmaciones:\n",
    "\n",
    "- “build”: indica un cambio en el sistema de compilación o en dependencias externas.\n",
    "\n",
    "- “docs”: indica un cambio en la documentación.\n",
    "\n",
    "- “feat”: indica que se agrega una nueva característica a la base del código.\n",
    "\n",
    "- “fix”: indica una corrección de error.\n",
    "\n",
    "- “prueba”: indica cambios en el marco de prueba."
   ]
  },
  {
   "cell_type": "markdown",
   "metadata": {},
   "source": [
    "# 3.6 Agregar dependencias a su paquete"
   ]
  },
  {
   "cell_type": "markdown",
   "metadata": {},
   "source": [
    "```python\n",
    ">>> from pycounts.plotting import plot_words\n",
    "ModuleNotFoundError: No module named 'matplotlib'"
   ]
  },
  {
   "cell_type": "markdown",
   "metadata": {},
   "source": [
    "Esto se debe a que matplotlib no forma parte de la biblioteca estándar de Python; debemos instalarla y agregarla como una dependencia de nuestro paquete pycounts. Podemos hacerlo mediante el comando poetry add: \n",
    "```bash\n",
    "$ poetry add matplotlib\n",
    "\n",
    "Using version ^3.4.3 for matplotlib\n",
    "\n",
    "Updating dependencies\n",
    "Resolving dependencies...\n",
    "\n",
    "Writing lock file\n",
    "\n",
    "Package operations: 8 installs, 0 updates, 0 removals\n",
    "\n",
    "  • Installing six (1.16.0)\n",
    "  • Installing cycler (0.10.0)\n",
    "  • Installing kiwisolver (1.3.1)\n",
    "  • Installing numpy (1.21.1)\n",
    "  • Installing pillow (8.3.1)\n",
    "  • Installing pyparsing (2.4.7)\n",
    "  • Installing python-dateutil (2.8.2)\n",
    "  • Installing matplotlib (3.4.3)"
   ]
  },
  {
   "cell_type": "markdown",
   "metadata": {},
   "source": [
    "Si abre el archivo pyproject.toml, ahora debería ver matplotlib como una dependencia en la sección [tool.poetry.dependencies]"
   ]
  },
  {
   "cell_type": "markdown",
   "metadata": {},
   "source": [
    "```bash\n",
    "$ git add pyproject.toml poetry.lock\n",
    "$ git commit -m \"build: add matplotlib as a dependency\"\n",
    "$ git push"
   ]
  },
  {
   "cell_type": "markdown",
   "metadata": {},
   "source": [
    "## 3.6.1 Restricciones de versiones de dependencias\n"
   ]
  },
  {
   "cell_type": "markdown",
   "metadata": {},
   "source": [
    "```python \n",
    "[tool.poetry.dependencies]\n",
    "python = \"^3.9\"\n",
    "matplotlib = \"^3.4.3\""
   ]
  },
  {
   "cell_type": "markdown",
   "metadata": {},
   "source": [
    "El operador ^ es una forma abreviada de decir “requiere esta o cualquier versión superior que no modifique el dígito de versión distinto de cero que se encuentra más a la izquierda”. Por ejemplo, nuestro paquete depende de cualquier versión de Python >=3.9.0 y <4.0.0. Por lo tanto, los ejemplos de versiones válidas incluyen 3.9.1 y 3.12.0, pero 4.0.1 no sería válida. El operador ^ impone un límite superior en las versiones de dependencia que requiere nuestro paquete. Un problema con este enfoque es que obliga a cualquiera que dependa de su paquete a especificar las mismas restricciones y, por lo tanto, puede dificultar la adición y resolución de dependencias. Pongamos un ejemplo: \n",
    "\n",
    "La versión 1.21.5 del popular paquete numpy tenía restricciones de versión limitadas en Python, que requerían versiones >=3.7 y <3.11. Observe lo que sucede si intentamos agregar esta versión de numpy a nuestro paquete pycounts(usamos el argumento --dry-run para mostrar lo que sucedería aquí sin ejecutar nada en realidad):"
   ]
  },
  {
   "cell_type": "markdown",
   "metadata": {},
   "source": [
    "```bash\n",
    "$ poetry add numpy=1.21.5 --dry-run\n",
    "\n",
    "Updating dependencies\n",
    "Resolving dependencies... (0.1s)\n",
    "\n",
    "SolverProblemError\n",
    "\n",
    "The current project's Python requirement (>=3.9,<4.0) is not compatible \n",
    "with some of the required packages Python requirement:\n",
    "    - numpy requires Python >=3.7,<3.11, so it will not be satisfied \n",
    "      for Python >=3.11,<4.0"
   ]
  },
  {
   "cell_type": "markdown",
   "metadata": {},
   "source": [
    "Como resultado de esta inconsistencia, poetry se niega a agregar numpy 1.21.5 como una dependencia de nuestro paquete. Para agregarlo, tenemos tres opciones principales:\n",
    "\n",
    "1. Cambie las restricciones de la versión de Python de nuestro paquete a >=3.7 y <3.11.\n",
    "\n",
    "2. Espere una versión numpy que sea compatible con las restricciones de Python de nuestro paquete.\n",
    "\n",
    "3. Especifique manualmente las versiones de Python para las que se puede instalar la dependencia, por ejemplo: \n",
    "```bash\n",
    "$ poetry add numpy=1.21.5 --python \">=3.7, <3.11\""
   ]
  },
  {
   "cell_type": "markdown",
   "metadata": {},
   "source": [
    "Ninguna de estas opciones es realmente ideal, especialmente si su paquete tiene una gran cantidad de dependencias con diferentes restricciones de versión. Sin embargo, una forma sencilla de resolver este problema es si numpy 1.21.5 no tuviera un límite superior en la versión de Python requerida. \n",
    "De hecho, en la versión secundaria posterior de numpy 1.22.0, se eliminó el límite superior de la versión de Python, requiriendo solo la versión >=3.8\n",
    "\n",
    "En definitiva, las restricciones de versión son un problema importante que puede afectar a la usabilidad de su paquete. Si tiene la intención de compartir su paquete, tener un límite superior en las versiones de dependencia puede hacer que sea muy difícil para otros desarrolladores usar su paquete como una dependencia en sus propios proyectos.\n",
    "\n",
    "Como resultado, recomendamos especificar restricciones de versión sin un límite superior cambiando manualmente poetry el operador de intercalación predeterminado de (^) a un signo mayor o igual a (>=)."
   ]
  },
  {
   "cell_type": "markdown",
   "metadata": {},
   "source": [
    "```python\n",
    "[tool.poetry.dependencies]\n",
    "python = \">=3.9\"\n",
    "matplotlib = \">=3.4.3\""
   ]
  },
  {
   "cell_type": "markdown",
   "metadata": {},
   "source": [
    "``` bash\n",
    "$ git add pyproject.toml\n",
    "$ git commit -m \"build: remove upper bound on dependency versions\"\n",
    "$ git push"
   ]
  },
  {
   "cell_type": "markdown",
   "metadata": {},
   "source": [
    "# 3.7 Prueba del paquete\n",
    "\n",
    "## 3.7.1 Redacción de pruebas\n",
    "\n",
    "¿cómo podemos estar seguros de que nuestro paquete funciona correctamente y produce resultados confiables? Una cosa que podemos hacer es escribir pruebas para nuestro paquete que comprueben que el paquete funciona como se espera.\n",
    "\n",
    "Muchos de nosotros ya realizamos pruebas informales de nuestro código ejecutándolo varias veces en una sesión de Python para ver si funciona como esperamos y, si no, modificamos el código y repetimos el proceso. Esto se denomina \"prueba manual\" o \"prueba exploratoria\". Sin embargo, al escribir software, es preferible definir las pruebas de una manera más formal y reproducible.\n",
    "\n",
    "Las pruebas en Python suelen escribirse con la instrucción assert. assert comprueba la veracidad de una expresión; si la expresión es verdadera, Python no hace nada y continúa ejecutándose, pero si es falsa, el código finaliza y muestra un mensaje de error definido por el usuario.\n",
    "\n",
    "Por ejemplo:\n",
    "\n",
    "```python \n",
    ">>> ages = [32, 19, 9, 75]\n",
    ">>> for age in ages:\n",
    ">>>    assert age >= 18, \"Person is younger than 18!\"\n",
    ">>>    print(\"Age verified!\")\n",
    "\n",
    "Age verified!\n",
    "Age verified!\n",
    "Traceback (most recent call last):\n",
    "  File \"<stdin>\", line 2, in <module>\n",
    "AssertionError: Person is younger than 18!"
   ]
  },
  {
   "cell_type": "markdown",
   "metadata": {},
   "source": [
    "## 3.7.2 Ejecución de pruebas\n",
    "\n",
    "Sería tedioso e ineficiente escribir y ejecutar manualmente pruebas unitarias para el código de su paquete como lo hicimos anteriormente. En cambio, es común usar un \"marco de prueba\" para ejecutar automáticamente nuestras pruebas por nosotros. pytest es el marco de prueba más común utilizado para paquetes de Python. Para usar pytest:\n",
    "\n",
    "1. Las pruebas se definen como funciones que tienen el prefijo \"test_\" y contienen una o más declaraciones de que el código produce un resultado esperado.\n",
    "\n",
    "2. Las pruebas se colocan en archivos con el formato test_*.pyo *_test.py, y generalmente se ubican en un directorio llamado tests/en la raíz de un paquete.\n",
    "\n",
    "3. Las pruebas se pueden ejecutar usando el comando pytest en la línea de comando y apuntándolo al directorio en el que se encuentran las pruebas: \n",
    "\n",
    "```bash\n",
    "$ pytest tests/\n",
    "\n",
    "========================= test session starts =========================\n",
    "...\n",
    "collected 1 item                                                                                            \n",
    "\n",
    "tests/test_pycounts.py .                                         [100%]\n",
    "\n",
    "========================== 1 passed in 0.01s =========================="
   ]
  },
  {
   "cell_type": "markdown",
   "metadata": {},
   "source": [
    "Antes de poder pytestejecutar nuestra prueba, debemos agregarla como una dependencia de desarrollo de nuestro paquete mediante el comando: \n",
    "\n",
    "```bash\n",
    "$ poetry add --group dev pytest"
   ]
  },
  {
   "cell_type": "markdown",
   "metadata": {},
   "source": [
    "Si miras el pyproject.toml archivo verás que pytestse agrega debajo de la sección [tool.poetry.group.dev.dependencies]\n",
    "\n",
    "```python\n",
    "[tool.poetry.group.dev.dependencies]\n",
    "pytest = \"^6.2.5\""
   ]
  },
  {
   "cell_type": "markdown",
   "metadata": {},
   "source": [
    "## 3.7.3 Cobertura del código\n",
    "\n",
    "Un buen conjunto de pruebas contendrá pruebas que verifiquen la mayor cantidad posible de código de su paquete. La cantidad de código que realmente utilizan sus pruebas se denomina “cobertura de código”. La medida más simple e intuitiva de la cobertura de código es la cobertura de línea. Es la proporción de líneas del código de su paquete que son ejecutadas por sus pruebas:\n",
    "\n",
    "coverage=(lines executed)/(total lines)*100 %\n",
    "\n",
    "Existe una extensión útil de pytest llamada pytest-cov, que podemos usar para calcular la cobertura. Primero, usaremos poetry para agregar pytest-cov como dependencia de desarrollo de nuestro paquete pycounts:\n",
    "\n",
    "```bash \n",
    "$ poetry add --group dev pytest-cov"
   ]
  },
  {
   "cell_type": "markdown",
   "metadata": {},
   "source": [
    "Podemos calcular la cobertura de línea de nuestras pruebas ejecutando el siguiente comando:\n",
    "\n",
    "```bash\n",
    "$ pytest tests/ --cov=pycounts\n",
    "\n",
    "========================= test session starts =========================\n",
    "...\n",
    "\n",
    "Name                       Stmts   Miss  Cover\n",
    "----------------------------------------------\n",
    "src/pycounts/__init__.py       2      0   100%\n",
    "src/pycounts/plotting.py       9      9     0%\n",
    "src/pycounts/pycounts.py      16      0   100%\n",
    "----------------------------------------------\n",
    "TOTAL                         27      9    67%\n",
    "\n",
    "========================== 1 passed in 0.02s =========================="
   ]
  },
  {
   "cell_type": "markdown",
   "metadata": {},
   "source": [
    "En el resultado anterior, Stmts muestra cuántas líneas hay en un módulo, Miss cuántas líneas no se ejecutaron durante las pruebas y Cover el porcentaje de líneas cubiertas por las pruebas. A partir del resultado anterior, podemos ver que nuestras pruebas actualmente no cubren ninguna de las líneas del módulo pycounts.plotting, por lo que sería recomendable escribir pruebas para ese módulo."
   ]
  },
  {
   "cell_type": "markdown",
   "metadata": {},
   "source": [
    "```bash\n",
    "$ git add pyproject.toml poetry.lock\n",
    "$ git commit -m \"build: add pytest and pytest-cov as dev dependencies\"\n",
    "$ git add tests/*\n",
    "$ git commit -m \"test: add unit test for count_words\"\n",
    "$ git push"
   ]
  },
  {
   "cell_type": "markdown",
   "metadata": {},
   "source": [
    "# 3.8 Documentación del paquete\n",
    "\n",
    "Un paquete típico contiene documentación en varias partes de su estructura de directorios\n",
    "\n",
    "- README(root): Proporciona información de alto nivel sobre el paquete, por ejemplo, qué hace, cómo instalarlo y cómo usarlo.\n",
    "\n",
    "- License(root): Explica quién posee los derechos de autor del código fuente de su paquete y cómo se puede usar y compartir.\n",
    "\n",
    "- CONTRIBUTING(root): Explica cómo contribuir al proyecto.\n",
    "\n",
    "- CONDUCT(root): Define estándares sobre cómo participar y contribuir adecuadamente al proyecto.\n",
    "\n",
    "- CHANGELOG(root): Una lista ordenada cronológicamente de cambios notables del paquete a lo largo del tiempo, generalmente organizada por versión.\n",
    "\n",
    "- Cadenas de documentación(archivos.py): Texto que aparece como la primera declaración en una función, método, clase o módulo en Python y que describe lo que hace el código y cómo usarlo. Accesible para los usuarios a través del comando help().\n",
    "\n",
    "- Ejemplos(docs/): Ejemplos paso a paso, tipo tutorial, que muestran cómo funciona el paquete con más detalle.\n",
    "\n",
    "- API reference(docs/): Una lista organizada de las funciones de su paquete que están orientadas al usuario (es decir, funciones, clases, etc.) junto con una breve descripción de lo que hacen y cómo usarlas. Generalmente se crean automáticamente a partir de las cadenas de documentación de su paquete mediante la herramienta sphinx. \n",
    "\n",
    "El flujo de trabajo típico para documentar un paquete de Python consta de tres pasos:\n",
    "\n",
    "1. Escribir documentación : escribir manualmente la documentación en formato de texto simple.\n",
    "\n",
    "2. Crear documentación : compile y represente la documentación en HTML utilizando el generador de documentación sphinx.\n",
    "\n",
    "3. Documentación del host en línea: comparta la documentación creada en línea para que cualquier persona con una conexión a Internet pueda acceder a ella fácilmente, utilizando un servicio gratuito como Read the Docs o GitHub Pages ."
   ]
  },
  {
   "cell_type": "markdown",
   "metadata": {},
   "source": [
    "## 3.8.1 Redacción de documentación\n",
    "\n",
    "Utilizaremos markdown y renderizaremos con sphinx. En el README pondremos: \n",
    "```markdown \n",
    "# mypkg\n",
    "\n",
    "A package for doing great things!\n",
    "\n",
    "## Installation\n",
    "\n",
    "```bash\n",
    "$ pip install mypkg\n",
    "```\n",
    "```markdown\n",
    "## Usage\n",
    "\n",
    "`pycounts` can be used to count words in a text file and plot results\n",
    "as follows:\n",
    "\n",
    "```markdown\n",
    "```python\n",
    "from pycounts.pycounts import count_words\n",
    "from pycounts.plotting import plot_words\n",
    "import matplotlib.pyplot as plt\n",
    "\n",
    "file_path = \"test.txt\"  # path to your file\n",
    "counts = count_words(file_path)\n",
    "fig = plot_words(counts, n=10)\n",
    "plt.show()\n",
    "```\n",
    "```markdown\n",
    "## Contributing\n",
    "\n",
    "Interested in contributing? Check out the contributing guidelines. Please note that this project is released with a Code of Conduct. By contributing to this project, you agree to abide by its terms.\n",
    "```markdown\n",
    "## License\n",
    "\n",
    "`mypkg` was created by Monty Python. It is licensed under the terms of the MIT license.\n",
    "\n",
    "```markdown\n",
    "## Credits\n",
    "\n",
    "`mypkg` was created with [`cookiecutter`](https://cookiecutter.readthedocs.io/en/latest/) and the `py-pkgs-cookiecutter` [template](https://github.com/py-pkgs/py-pkgs-cookiecutter).\n"
   ]
  },
  {
   "cell_type": "markdown",
   "metadata": {},
   "source": [
    "## 3.8.2 Escritura de cadenas de documentación\n",
    "\n",
    "Una cadena de documentación es una cadena, rodeada de comillas triples, al comienzo de un módulo, clase o función en Python (antes de cualquier código) que proporciona documentación sobre lo que hace el objeto y cómo usarlo. Las cadenas de documentación se convierten automáticamente en la documentación del objeto documentado, a la que los usuarios pueden acceder a través de la función help().\n",
    "\n",
    "Una cadena de documentación típica incluirá:\n",
    "\n",
    "- Un resumen de una línea que no utiliza nombres de variables ni el nombre de la función.\n",
    "\n",
    "- Una descripción extendida.\n",
    "\n",
    "- Tipos de parámetros y descripciones.\n",
    "\n",
    "- Tipos de valores devueltos y descripciones.\n",
    "\n",
    "- Ejemplo de uso.\n",
    "\n",
    "- Potencialmente más.\n",
    "\n",
    "Existen diferentes “estilos de cadenas de documentación” que se utilizan en Python para organizar esta información, como el estilo numpydoc , el estilo Google y el estilo sphinx . Usaremos el estilo numpydoc para nuestro paquete pycounts porque es legible, se usa comúnmente y es compatible con sphinx. En el estilo numpydoc:\n",
    "\n",
    "- Los encabezados de sección se indican como texto subrayado con guiones\n",
    "\n",
    "```python \n",
    "Parameters\n",
    "----------\n",
    "```\n",
    "- Los argumentos de entrada se denotan como:\n",
    "\n",
    "```python\n",
    "name : type\n",
    "    Description of parameter `name`.\n",
    "```\n",
    "- Los valores de salida utilizan la misma sintaxis anterior, pero especificar name es opcional.\n",
    "\n",
    "Ejemplo:\n",
    "\n",
    "```python\n",
    "def count_words(input_file):\n",
    "    \"\"\"Count words in a text file.\n",
    "\n",
    "    Words are made lowercase and punctuation is removed \n",
    "    before counting.\n",
    "\n",
    "    Parameters\n",
    "    ----------\n",
    "    input_file : str\n",
    "        Path to text file.\n",
    "\n",
    "    Returns\n",
    "    -------\n",
    "    collections.Counter\n",
    "        dict-like object where keys are words and values are counts.\n",
    "\n",
    "    Examples\n",
    "    --------\n",
    "    >>> count_words(\"text.txt\")\n",
    "    \"\"\"\n",
    "    text = load_text(input_file)\n",
    "    text = clean_text(text)\n",
    "    words = text.split()\n",
    "    return Counter(words)"
   ]
  },
  {
   "cell_type": "markdown",
   "metadata": {},
   "source": [
    "Para los usuarios de nuestro paquete sería útil compilar todas nuestras funciones y cadenas de documentación en un documento de fácil navegación, de modo que puedan acceder a esta documentación sin tener que ejecutar help() ni buscar en nuestro código fuente. Este tipo de documento se conoce como referencia de interfaz de programación de aplicaciones (API). Podríamos crear uno copiando y pegando manualmente todos los nombres de nuestras funciones y cadenas de documentación en un archivo de texto sin formato, pero eso sería ineficiente. En su lugar, mostraremos cómo utilizarlo sphinx en la Sección 3.8.4 para analizar automáticamente nuestro código fuente, extraer nuestras funciones y cadenas de documentación y crear una referencia de API para nosotros."
   ]
  },
  {
   "cell_type": "markdown",
   "metadata": {},
   "source": [
    "## 3.8.3 Creación de ejemplos de uso\n",
    "\n",
    "A diferencia del encabezado breve y básico “Uso” que escribimos en nuestro README en la Sección 3.8.1 , estos ejemplos son más bien tutoriales, que incluyen una combinación de texto y código que demuestra la funcionalidad y los flujos de trabajo comunes de su paquete paso a paso. En cambio, en esta sección te mostraremos cómo usar Jupyter Notebooks 7 como una forma más eficiente, interactiva y reproducible de crear ejemplos de uso para tus usuarios."
   ]
  },
  {
   "cell_type": "markdown",
   "metadata": {},
   "source": [
    "# 3.8.4 Documentación de construcción\n",
    "\n",
    "Ya hemos escrito todos los documentos necesarios para respaldar nuestro paquete pycounts, pero toda esta documentación está distribuida en la estructura de directorios de nuestro paquete, lo que dificulta su uso compartido y búsqueda.\n",
    "\n",
    "Aquí es donde entra en juego el generador de documentación sphinx. sphinx es una herramienta utilizada para compilar y renderizar colecciones de archivos fuente de texto simple en formatos de salida fáciles de usar, como HTML o PDF. sphinx también tiene un rico ecosistema de extensiones que se pueden usar para ayudar a generar contenido automáticamente: usaremos algunas de estas extensiones en esta sección para crear automáticamente una hoja de referencia de API a partir de nuestras cadenas de documentación y para ejecutar y renderizar nuestro ejemplo de Jupyter Notebook en nuestra documentación.\n",
    "\n",
    "Los archivos de origen y configuración para crear documentación sphinx como esta suelen estar en el directorio docs/ de un paquete.\n",
    "\n",
    "pycounts\n",
    "├── .readthedocs.yml\n",
    "├── CHANGELOG.md\n",
    "├── CONDUCT.md\n",
    "├── CONTRIBUTING.md\n",
    "├── docs\n",
    "│   ├── changelog.md\n",
    "│   ├── conduct.md\n",
    "│   ├── conf.py\n",
    "│   ├── contributing.md\n",
    "│   ├── example.ipynb\n",
    "│   ├── index.md\n",
    "│   ├── make.bat\n",
    "│   ├── Makefile\n",
    "│   └── requirements.txt\n",
    "├── LICENSE\n",
    "├── poetry.lock\n",
    "├── pyproject.toml\n",
    "├── README.md\n",
    "├── src\n",
    "│   └── ...\n",
    "└── tests\n",
    "    └── ...\n",
    "\n",
    "El docs/directorio incluye:\n",
    "\n",
    "- Makefile/ make.bat: archivos que contienen los comandos necesarios para crear nuestra documentación sphinx y que no necesitan ser modificados. Make es una herramienta que se utiliza para ejecutar comandos para leer, procesar y escribir archivos de manera eficiente. Un Makefile define las tareas que Make debe ejecutar. Para crear documentación con sphinx, todo lo que necesita saber es que tener estos Makefiles nos permite crear documentación con el simple comando make html, que haremos más adelante en esta sección.\n",
    "\n",
    "- requirements.txt: contiene una lista de dependencias específicas de la documentación necesarias para alojar nuestra documentación en línea en  Read the Docs, que analizaremos en la Sección 3.8.5.\n",
    "\n",
    "- conf.py es un archivo de configuración que controla cómo sphinx se crea la documentación. La plantilla py-pkgs-cookiecutter lo ha completado previamente y no necesita modificarse.\n",
    "\n",
    "- Los archivos restantes en docs/ forman el contenido de nuestra documentación generada, como discutiremos en el resto de esta sección.\n",
    "\n",
    "    - El index.md formará la página de inicio de nuestra documentación.  Piense en ella como la página de inicio de un sitio web. Para su página de inicio, normalmente querrá información de alto nivel sobre su paquete y luego enlaces al resto de la documentación que desea exponer a un usuario.\n",
    "\n",
    "    ``` python\n",
    "        ```{include} ../README.md\n",
    "        ```\n",
    "\n",
    "        ```{toctree}\n",
    "        :maxdepth: 1\n",
    "        :hidden:\n",
    "\n",
    "        example.ipynb\n",
    "        changelog.md\n",
    "        contributing.md\n",
    "        conduct.md\n",
    "        autoapi/index\n",
    "        ```\n",
    "    ```\n",
    "    La sintaxis que estamos usando en este archivo se conoce como Markedly Structured Text (MyST) . MyST se basa en Markdown pero con opciones de sintaxis adicionales compatibles para su uso con sphinx. La sintaxis {include} especifica que cuando esta página se renderiza con sphinx, queremos que incluya el contenido del README.md del directorio raíz de nuestro paquete (piénselo como una operación de copiar y pegar).\n",
    "\n",
    "    La sintaxis {toctree} define qué documentos se incluirán en la tabla de contenidos (ToC) en el lado izquierdo de nuestra documentación renderizada. El argumento :maxdepth: 1 indica cuántos niveles de encabezado debe incluir la ToC y especifica que la ToC solo debe aparecer en la barra lateral y no en la página de bienvenida. Luego :hidden: enumera los documentos que se incluirán en nuestra documentación renderizada.\n",
    "\n",
    "    sphinx no admite enlaces relativos en una tabla de contenidos, por lo que para incluir los documentos CHANGELOG.md, CONTRIBUTING.md, CONDUCT.md desde la raíz de nuestro paquete, creamos “archivos auxiliares” llamados changelog.md, contributing.md, y conduct.md, que enlazan a estos documentos utilizando la {include}sintaxis que vimos antes. Por ejemplo, changelog.md contiene el siguiente texto:\n",
    "\n",
    "    ```python\n",
    "        ```{include} ../CHANGELOG.md\n",
    "        ```\n",
    "    ```\n",
    "    - El documento final en la tabla de contenidos, “autoapi/index”, es una hoja de referencia de API que se generará automáticamente para nosotros, a partir de la estructura de nuestro paquete y cadenas de documentación, cuando construyamos nuestra documentación con sphinx.\n",
    "\n",
    "\n",
    "    \n",
    "       "
   ]
  },
  {
   "cell_type": "markdown",
   "metadata": {},
   "source": [
    "Antes de que podamos continuar y crear nuestra documentación con sphinx, sphinx depende de algunas extensiones que deben instalarse y configurarse:\n",
    "\n",
    "- myst-nb : extensión que permitirá sphinx analizar nuestros archivos Markdown, MyST y Jupyter Notebook ( sphinx solo admite archivos reStructuredTex, .rst , de forma predeterminada).\n",
    "\n",
    "- sphinx-rtd-theme : un tema personalizado para diseñar el aspecto que tendrá nuestra documentación. Tiene un aspecto mucho mejor que el tema predeterminado.\n",
    "\n",
    "- sphinx-autoapi : extensión que analizará nuestro código fuente y cadenas de documentación para crear una hoja de referencia de API.\n",
    "\n",
    "- sphinx.ext.napoleon : extensión que permite sphinx analizar cadenas de documentación de estilo numpydoc.\n",
    "\n",
    "- sphinx.ext.viewcode : extensión que agrega un enlace útil al código fuente de cada objeto en la hoja de referencia de API.\n",
    "\n",
    "Estas extensiones no son necesarias para crear documentación con sphinx, pero todas se usan comúnmente en la documentación de empaquetado de Python y mejoran significativamente el aspecto y la experiencia del usuario de la documentación generada. Las extensiones sin el sphinx.extprefijo deben instalarse. Podemos instalarlas como dependencias de desarrollo en un poetryproyecto administrado con el siguiente comando:\n",
    "\n",
    "```bash\n",
    "$ poetry add --group dev myst-nb --python \"^3.9\"\n",
    "$ poetry add --group dev sphinx-autoapi sphinx-rtd-theme\n",
    "```\n",
    "Una vez instaladas, las extensiones que se deseen utilizar deben añadirse a una lista llamada extensions en el archivo conf.py  de configuración y configurarse. Las opciones de configuración de cada extensión (si existen) se pueden consultar en su documentación respectiva, pero py-pkgs-cookeicutter ya se ha encargado de todo por nosotros, definiendo las siguientes variables dentro de conf.py\n",
    "\n",
    "```python\n",
    "extensions = [\n",
    "    \"myst_nb\",\n",
    "    \"autoapi.extension\",\n",
    "    \"sphinx.ext.napoleon\",\n",
    "    \"sphinx.ext.viewcode\"\n",
    "]\n",
    "autoapi_dirs = [\"../src\"]  # location to parse for API reference\n",
    "html_theme = \"sphinx_rtd_theme\"\n",
    "```\n",
    "Con nuestra estructura de documentación configurada y nuestras extensiones configuradas, ahora podemos navegar al docs/directorio y crear nuestra documentación sphinx usando los siguientes comandos:\n",
    "\n",
    "```bash \n",
    "$ cd docs\n",
    "$ make html\n",
    "\n",
    "Running Sphinx\n",
    "...\n",
    "build succeeded.\n",
    "The HTML pages are in _build/html.\n",
    "```\n",
    "\n",
    "Si miramos dentro de nuestro docs/, vemos un nuevo directorio _build/html que contiene nuestra documentación compilada como archivos HTML. Si abre _build/html/index.html, debería ver la página que se muestra anteriormente en la Fig. 3.9 ."
   ]
  },
  {
   "cell_type": "markdown",
   "metadata": {},
   "source": [
    "```bash\n",
    "$ cd ..\n",
    "$ git add README.md docs/example.ipynb\n",
    "$ git commit -m \"docs: updated readme and example\"\n",
    "$ git add src/pycounts/pycounts.py src/pycounts/plotting.py\n",
    "$ git commit -m \"docs: created docstrings for package functions\"\n",
    "$ git add pyproject.toml poetry.lock\n",
    "$ git commit -m \"build: added dev dependencies for docs\"\n",
    "$ git push"
   ]
  },
  {
   "cell_type": "markdown",
   "metadata": {},
   "source": [
    "## 3.8.5 Alojamiento de la documentación en línea\n",
    "\n",
    "Si tiene la intención de compartir su paquete con otros, será útil hacer que su documentación sea accesible en línea. Es común alojar la documentación del paquete Python en el servicio de alojamiento en línea gratuito Read the Docs . Read the Docs funciona conectándose a un repositorio en línea que aloja la documentación de su paquete, como un repositorio de GitHub. Cuando envía cambios a su repositorio, Read the Docs crea automáticamente una copia nueva de su documentación (es decir, ejecuta ) y la aloja en la URL (también puede configurar Read the Docs para usar un nombre de dominio personalizado). Esto significa que cualquier cambio que realice en los archivos fuente de su documentación (y envíe a su repositorio remoto vinculado) se implementa inmediatamente para sus usuarios."
   ]
  },
  {
   "cell_type": "markdown",
   "metadata": {},
   "source": [
    "# 3.9 Etiquetado de una versión de paquete con control de versiones\n",
    "\n",
    "Etiquetar una versión significa que “etiquetamos” permanentemente un punto específico en el historial de nuestro repositorio y luego creamos una “versión” descargable de todos los archivos en nuestro repositorio en el estado en el que estaban cuando se creó la etiqueta.\n",
    "\n",
    "Etiquetar una versión es un proceso de dos pasos que involucra tanto a Git como a GitHub:\n",
    "\n",
    "1. Crea una etiqueta que marque un punto específico en el historial de un repositorio usando el comando .git tag\n",
    "\n",
    "    ```bash\n",
    "    $ git tag v0.1.0\n",
    "    $ git push --tags\n",
    "    ```\n",
    "    Ahora, si vas al pycountsrepositorio en GitHub y navegas a la pestaña \"Releases\", deberías ver una etiqueta.\n",
    "\n",
    "2. Después de hacer clic en “Publicar lanzamiento”, GitHub creará automáticamente un lanzamiento a partir de su etiqueta, incluidos archivos comprimidos de su código en formato .zip y .tar.gz"
   ]
  },
  {
   "cell_type": "markdown",
   "metadata": {},
   "source": [
    "# 3.10 Creación y distribución de su paquete\n",
    "\n",
    "## 3.10.1 Construyendo su paquete\n",
    "\n",
    "En este momento, nuestro paquete es una colección de archivos y carpetas que es difícil compartir con otros. La solución a este problema es crear un “paquete de distribución”. Un paquete de distribución es un único archivo que contiene todos los archivos y la información necesaria para instalar un paquete utilizando una herramienta como pip.\n",
    "\n",
    "Lo que necesita saber ahora es que al distribuir un paquete es común crear distribuciones sdist y wheel. Podemos crear fácilmente un sdist y wheel de un paquete con poetry el comando poetry build pycounts. Hagámoslo ahora para nuestro paquete ejecutando el siguiente comando desde nuestro directorio raíz del paquete:\n",
    "\n",
    "```bash\n",
    "$ poetry build\n",
    "\n",
    "Building pycounts (0.1.0)\n",
    "  - Building sdist\n",
    "  - Built pycounts-0.1.0.tar.gz\n",
    "  - Building wheel\n",
    "  - Built pycounts-0.1.0-py3-none-any.whl\n",
    "```\n",
    "Después de ejecutar este comando, notará un nuevo directorio en su paquete llamado dist/:\n",
    "\n",
    "pycounts\n",
    "├── .readthedocs.yml\n",
    "├── CHANGELOG.md\n",
    "├── CONDUCT.md\n",
    "├── CONTRIBUTING.md\n",
    "├── dist\n",
    "│   ├── pycounts-0.1.0-py3-none-any.whl  <- wheel\n",
    "│   └── pycounts-0.1.0.tar.gz            <- sdist\n",
    "├── docs\n",
    "│   └── ...\n",
    "├── LICENSE\n",
    "├── poetry.lock\n",
    "├── pyproject.toml\n",
    "├── README.md\n",
    "├── src\n",
    "│   └── ...\n",
    "└── tests\n",
    "    └── ...\n",
    "\n",
    "Esos dos nuevos archivos son sdist y wheel para nuestro pycountspaquete. Un usuario podría ahora instalar fácilmente nuestro paquete si tuviera una de estas distribuciones usando . Por ejemplo, para instalar wheel (el tipo de distribución preferido), podría ingresar lo siguiente en una terminal:pip install\n",
    "\n",
    "```bash\n",
    "$ cd dist/\n",
    "$ pip install pycounts-0.1.0-py3-none-any.whl\n",
    "\n",
    "Processing ./pycounts-0.1.0-py3-none-any.whl\n",
    "...\n",
    "Successfully installed pycounts-0.1.0\n",
    "```\n",
    "La creación de una distribución para nuestro paquete es más útil si la ponemos a disposición en un repositorio en línea como Python Package Index (PyPI), el repositorio de software en línea oficial para Python. Esto permitiría a los usuarios simplemente ejecutar la instalación de nuestro paquete pip install pycounts, sin necesidad de tener los archivos sdist o wheel localmente."
   ]
  },
  {
   "cell_type": "markdown",
   "metadata": {},
   "source": [
    "# RESUMEN\n",
    "\n",
    "1. Cree la estructura del paquete utilizando cookiecutter (3.2.2)\n",
    "\n",
    "2. (Opcional) Ponga su paquete bajo control de versiones (3.3)\n",
    "\n",
    "3. Cree y active un entorno virtual utilizando conda (3.5.1)\n",
    "\n",
    "4. Agregue código Python a los módulos en el src/directorio ( Sección 3.4 ), agregando dependencias según sea necesario ( Sección 3.6 ).\n",
    "\n",
    "5. Instale y pruebe su paquete en un intérprete de Python(3.5.2)\n",
    "\n",
    "6. (Opcional) Escriba pruebas para su paquete en los módulos con el prefijo test_en el tests/directorio. Añádalos pytestcomo una dependencia de desarrollo para ejecutar sus pruebas ( Sección 3.7.2 ). Añádalos pytest-covcomo una dependencia de desarrollo para calcular la cobertura de sus pruebas ( Sección 3.7.3 ).\n",
    "\n",
    "7. (Opcional) Cree archivos fuente de documentación para su paquete ( Sección 3.8 ). Utilícelos sphinxpara compilar y generar una versión HTML de su documentación, agregando las dependencias de desarrollo requeridas ( Sección 3.8.4 ).\n",
    "\n",
    "8. (Opcional) Aloje la documentación en línea con Read the Docs ( Sección 3.8.5 ).\n",
    "\n",
    "9. (Opcional) Etiquete una versión de su paquete usando Git y GitHub, o herramientas de control de versiones equivalentes ( Sección 3.9 ).\n",
    "\n",
    "10. Cree distribuciones sdist y wheel para su paquete ( Sección 3.10.1 ).\n",
    "\n",
    "11. (Opcional) Publique sus distribuciones en TestPyPI e intente instalar su paquete ( Sección 3.10.2 ).\n",
    "\n",
    "12. (Opcional) Publica tus distribuciones en PyPI . Tu paquete ahora puede ser instalado por cualquier persona que utilice pip( Sección 3.10.3 )."
   ]
  }
 ],
 "metadata": {
  "language_info": {
   "name": "python"
  }
 },
 "nbformat": 4,
 "nbformat_minor": 2
}
